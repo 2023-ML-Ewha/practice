{
 "cells": [
  {
   "cell_type": "code",
   "execution_count": 30,
   "id": "31837b1d-fcd3-4523-ac10-a3faae4e4c2f",
   "metadata": {},
   "outputs": [],
   "source": [
    "import pickle # 객체 입출력을 위한 라이브러리\n",
    "from sklearn.model_selection import train_test_split # 훈련 데이터, 테스트 데이터 분리\n",
    "from sklearn.preprocessing import StandardScaler # 정규화\n",
    "from sklearn.ensemble import RandomForestClassifier # 랜덤포레스트 분류 알고리즘\n",
    "import pandas as pd\n",
    "\n",
    "# 모델 평가를 위한 metrics\n",
    "from sklearn.metrics import accuracy_score, precision_score, recall_score, f1_score, confusion_matrix, classification_report"
   ]
  },
  {
   "cell_type": "code",
   "execution_count": null,
   "id": "b4f737b2-a429-4def-b8a7-289075cb67d4",
   "metadata": {},
   "outputs": [],
   "source": []
  },
  {
   "cell_type": "markdown",
   "id": "8686854f-2e26-47e4-bf35-f3467ad59554",
   "metadata": {},
   "source": [
    "1 closed world 분류"
   ]
  },
  {
   "cell_type": "code",
   "execution_count": 31,
   "id": "5bab8447-b6a8-4670-b16f-56848d2a5720",
   "metadata": {},
   "outputs": [
    {
     "data": {
      "text/html": [
       "<div>\n",
       "<style scoped>\n",
       "    .dataframe tbody tr th:only-of-type {\n",
       "        vertical-align: middle;\n",
       "    }\n",
       "\n",
       "    .dataframe tbody tr th {\n",
       "        vertical-align: top;\n",
       "    }\n",
       "\n",
       "    .dataframe thead th {\n",
       "        text-align: right;\n",
       "    }\n",
       "</style>\n",
       "<table border=\"1\" class=\"dataframe\">\n",
       "  <thead>\n",
       "    <tr style=\"text-align: right;\">\n",
       "      <th></th>\n",
       "      <th>N_in_packets</th>\n",
       "      <th>N_out_packets</th>\n",
       "      <th>in_first_thirty</th>\n",
       "      <th>out_first_thirty</th>\n",
       "      <th>out_fraction</th>\n",
       "      <th>in_fraction</th>\n",
       "      <th>out_std</th>\n",
       "      <th>in_std</th>\n",
       "      <th>out_mean</th>\n",
       "      <th>in_mean</th>\n",
       "      <th>N_packets</th>\n",
       "      <th>time_fraction</th>\n",
       "      <th>y</th>\n",
       "    </tr>\n",
       "  </thead>\n",
       "  <tbody>\n",
       "    <tr>\n",
       "      <th>0</th>\n",
       "      <td>1300</td>\n",
       "      <td>121</td>\n",
       "      <td>21</td>\n",
       "      <td>9</td>\n",
       "      <td>0.085151</td>\n",
       "      <td>0.914849</td>\n",
       "      <td>398.486335</td>\n",
       "      <td>515.483953</td>\n",
       "      <td>705.106154</td>\n",
       "      <td>774.322314</td>\n",
       "      <td>1421</td>\n",
       "      <td>140.138067</td>\n",
       "      <td>0</td>\n",
       "    </tr>\n",
       "    <tr>\n",
       "      <th>1</th>\n",
       "      <td>438</td>\n",
       "      <td>80</td>\n",
       "      <td>22</td>\n",
       "      <td>8</td>\n",
       "      <td>0.154440</td>\n",
       "      <td>0.845560</td>\n",
       "      <td>150.591146</td>\n",
       "      <td>139.231951</td>\n",
       "      <td>265.406393</td>\n",
       "      <td>227.162500</td>\n",
       "      <td>518</td>\n",
       "      <td>50.984252</td>\n",
       "      <td>0</td>\n",
       "    </tr>\n",
       "    <tr>\n",
       "      <th>2</th>\n",
       "      <td>1240</td>\n",
       "      <td>118</td>\n",
       "      <td>23</td>\n",
       "      <td>7</td>\n",
       "      <td>0.086892</td>\n",
       "      <td>0.913108</td>\n",
       "      <td>381.878642</td>\n",
       "      <td>472.735508</td>\n",
       "      <td>669.259677</td>\n",
       "      <td>787.110169</td>\n",
       "      <td>1358</td>\n",
       "      <td>122.232223</td>\n",
       "      <td>0</td>\n",
       "    </tr>\n",
       "    <tr>\n",
       "      <th>3</th>\n",
       "      <td>1324</td>\n",
       "      <td>122</td>\n",
       "      <td>21</td>\n",
       "      <td>9</td>\n",
       "      <td>0.084371</td>\n",
       "      <td>0.915629</td>\n",
       "      <td>406.205288</td>\n",
       "      <td>513.916038</td>\n",
       "      <td>714.503021</td>\n",
       "      <td>821.139344</td>\n",
       "      <td>1446</td>\n",
       "      <td>108.233533</td>\n",
       "      <td>0</td>\n",
       "    </tr>\n",
       "    <tr>\n",
       "      <th>4</th>\n",
       "      <td>1291</td>\n",
       "      <td>115</td>\n",
       "      <td>22</td>\n",
       "      <td>8</td>\n",
       "      <td>0.081792</td>\n",
       "      <td>0.918208</td>\n",
       "      <td>395.028889</td>\n",
       "      <td>503.993490</td>\n",
       "      <td>695.740511</td>\n",
       "      <td>790.608696</td>\n",
       "      <td>1406</td>\n",
       "      <td>132.142857</td>\n",
       "      <td>0</td>\n",
       "    </tr>\n",
       "  </tbody>\n",
       "</table>\n",
       "</div>"
      ],
      "text/plain": [
       "   N_in_packets  N_out_packets  in_first_thirty  out_first_thirty  \\\n",
       "0          1300            121               21                 9   \n",
       "1           438             80               22                 8   \n",
       "2          1240            118               23                 7   \n",
       "3          1324            122               21                 9   \n",
       "4          1291            115               22                 8   \n",
       "\n",
       "   out_fraction  in_fraction     out_std      in_std    out_mean     in_mean  \\\n",
       "0      0.085151     0.914849  398.486335  515.483953  705.106154  774.322314   \n",
       "1      0.154440     0.845560  150.591146  139.231951  265.406393  227.162500   \n",
       "2      0.086892     0.913108  381.878642  472.735508  669.259677  787.110169   \n",
       "3      0.084371     0.915629  406.205288  513.916038  714.503021  821.139344   \n",
       "4      0.081792     0.918208  395.028889  503.993490  695.740511  790.608696   \n",
       "\n",
       "   N_packets  time_fraction  y  \n",
       "0       1421     140.138067  0  \n",
       "1        518      50.984252  0  \n",
       "2       1358     122.232223  0  \n",
       "3       1446     108.233533  0  \n",
       "4       1406     132.142857  0  "
      ]
     },
     "execution_count": 31,
     "metadata": {},
     "output_type": "execute_result"
    }
   ],
   "source": [
    "# monitored dataset 불러오기 -> 유미가 보낸 csv? 에다가 해당되는class label도 같이 나오게 csv 새로 받아야할\n",
    "monitored=pd.read_csv(\"C:/Users/jain5/Desktop/dataset.csv\")\n",
    "monitored.head()\n",
    "     "
   ]
  },
  {
   "cell_type": "code",
   "execution_count": 32,
   "id": "c94850b5-debb-4191-942b-153d8e969a9e",
   "metadata": {},
   "outputs": [],
   "source": [
    "# 정답값 아닌 애들 분리\n",
    "X= monitored.drop('y', axis=1)\n",
    "# 목표변수 분리(정답값. 어느 클래스 label에 해당하는지 해당 열)\n",
    "y = monitored['y']"
   ]
  },
  {
   "cell_type": "code",
   "execution_count": 33,
   "id": "a5a5fb5c-68b4-41ff-b3ae-307959bd2aee",
   "metadata": {},
   "outputs": [],
   "source": [
    "X_train, X_test, y_train, y_test=train_test_split(X, y,\n",
    "                                                    test_size = 0.3, random_state = 1)"
   ]
  },
  {
   "cell_type": "code",
   "execution_count": 34,
   "id": "0cb054fe-0cfd-42bf-9894-96ebee606556",
   "metadata": {},
   "outputs": [
    {
     "name": "stdout",
     "output_type": "stream",
     "text": [
      "최적 하이퍼 파라미터:\n",
      " {'max_depth': 24, 'min_samples_leaf': 1, 'min_samples_split': 2}\n",
      "최고 예측 정확도: 0.7203\n"
     ]
    }
   ],
   "source": [
    "from sklearn.model_selection import GridSearchCV\n",
    "\n",
    "params = {\n",
    "    'max_depth' : [8, 16, 24], \n",
    "    'min_samples_leaf' : [1, 6, 12],\n",
    "    'min_samples_split' : [2, 8, 16]\n",
    "}\n",
    "# RandomForestClassifier 객체 생성 후 GridSearchCV 수행\n",
    "# 튜닝 시간 절약을 위해 n_estimators는 100, cv는 2로만 성정한다.\n",
    "rf_clf = RandomForestClassifier(n_estimators=100, random_state=0, n_jobs=-1)\n",
    "grid_cv = GridSearchCV(rf_clf , param_grid=params , cv=2, n_jobs=-1 )\n",
    "grid_cv.fit(X_train , y_train)\n",
    "\n",
    "print('최적 하이퍼 파라미터:\\n', grid_cv.best_params_)\n",
    "print('최고 예측 정확도: {0:.4f}'.format(grid_cv.best_score_))"
   ]
  },
  {
   "cell_type": "code",
   "execution_count": 35,
   "id": "987f803e-e0a2-4ebf-9497-37598ee0e03d",
   "metadata": {},
   "outputs": [
    {
     "name": "stdout",
     "output_type": "stream",
     "text": [
      "예측 정확도: 0.7661\n"
     ]
    }
   ],
   "source": [
    "rf_clf1 = RandomForestClassifier(n_estimators=100, max_depth=24, min_samples_leaf=1, \n",
    "                                 min_samples_split=2, random_state=0)\n",
    "rf_clf1.fit(X_train , y_train)\n",
    "pred = rf_clf1.predict(X_test)\n",
    "print('예측 정확도: {0:.4f}'.format(accuracy_score(y_test , pred)))"
   ]
  },
  {
   "cell_type": "code",
   "execution_count": 36,
   "id": "722affa0-1c87-4324-892f-04e68f98828d",
   "metadata": {},
   "outputs": [
    {
     "data": {
      "image/png": "[encoded data removed]",
      "text/plain": [
       "<Figure size 800x600 with 1 Axes>"
      ]
     },
     "metadata": {},
     "output_type": "display_data"
    },
    {
     "data": {
      "text/plain": [
       "<Figure size 640x480 with 0 Axes>"
      ]
     },
     "metadata": {},
     "output_type": "display_data"
    }
   ],
   "source": [
    "import matplotlib.pyplot as plt\n",
    "import seaborn as sns\n",
    "%matplotlib inline\n",
    "\n",
    "# feature_importances_를 이용해 알고리즘이 선택한 피처릐 중요도 알기\n",
    "ftr_importances_values = rf_clf1.feature_importances_\n",
    "ftr_importances = pd.Series(ftr_importances_values,index=X_train.columns  )\n",
    "ftr_top20 = ftr_importances.sort_values(ascending=False)[:20]\n",
    "\n",
    "plt.figure(figsize=(8,6))\n",
    "plt.title('Feature importances Top 20')\n",
    "sns.barplot(x=ftr_top20 , y = ftr_top20.index)\n",
    "fig1 = plt.gcf()\n",
    "plt.show()\n",
    "plt.draw()\n",
    "fig1.savefig('rf_feature_importances_top20.tif', format='tif', dpi=300, bbox_inches='tight')"
   ]
  },
  {
   "cell_type": "code",
   "execution_count": null,
   "id": "dfba1d62-6019-4236-b024-e57441550c58",
   "metadata": {},
   "outputs": [],
   "source": []
  },
  {
   "cell_type": "code",
   "execution_count": null,
   "id": "400c9795-1f79-43ae-a3fd-d765e3ef8c28",
   "metadata": {},
   "outputs": [],
   "source": []
  },
  {
   "cell_type": "markdown",
   "id": "f06b1aa7-7ade-4c3a-916c-a915d2c4f825",
   "metadata": {},
   "source": [
    "2-1 open world 이진 분류"
   ]
  },
  {
   "cell_type": "code",
   "execution_count": 41,
   "id": "664f4667-279c-4cf3-bde6-fc922d13d27c",
   "metadata": {},
   "outputs": [
    {
     "data": {
      "text/html": [
       "<div>\n",
       "<style scoped>\n",
       "    .dataframe tbody tr th:only-of-type {\n",
       "        vertical-align: middle;\n",
       "    }\n",
       "\n",
       "    .dataframe tbody tr th {\n",
       "        vertical-align: top;\n",
       "    }\n",
       "\n",
       "    .dataframe thead th {\n",
       "        text-align: right;\n",
       "    }\n",
       "</style>\n",
       "<table border=\"1\" class=\"dataframe\">\n",
       "  <thead>\n",
       "    <tr style=\"text-align: right;\">\n",
       "      <th></th>\n",
       "      <th>N_in_packets</th>\n",
       "      <th>N_out_packets</th>\n",
       "      <th>in_first_thirty</th>\n",
       "      <th>out_first_thirty</th>\n",
       "      <th>out_fraction</th>\n",
       "      <th>in_fraction</th>\n",
       "      <th>out_std</th>\n",
       "      <th>in_std</th>\n",
       "      <th>out_mean</th>\n",
       "      <th>in_mean</th>\n",
       "      <th>N_packets</th>\n",
       "      <th>time_fraction</th>\n",
       "      <th>y</th>\n",
       "    </tr>\n",
       "  </thead>\n",
       "  <tbody>\n",
       "    <tr>\n",
       "      <th>0</th>\n",
       "      <td>1300</td>\n",
       "      <td>121</td>\n",
       "      <td>21</td>\n",
       "      <td>9</td>\n",
       "      <td>0.085151</td>\n",
       "      <td>0.914849</td>\n",
       "      <td>398.486335</td>\n",
       "      <td>515.483953</td>\n",
       "      <td>705.106154</td>\n",
       "      <td>774.322314</td>\n",
       "      <td>1421</td>\n",
       "      <td>140.138067</td>\n",
       "      <td>1</td>\n",
       "    </tr>\n",
       "    <tr>\n",
       "      <th>1</th>\n",
       "      <td>438</td>\n",
       "      <td>80</td>\n",
       "      <td>22</td>\n",
       "      <td>8</td>\n",
       "      <td>0.154440</td>\n",
       "      <td>0.845560</td>\n",
       "      <td>150.591146</td>\n",
       "      <td>139.231951</td>\n",
       "      <td>265.406393</td>\n",
       "      <td>227.162500</td>\n",
       "      <td>518</td>\n",
       "      <td>50.984252</td>\n",
       "      <td>1</td>\n",
       "    </tr>\n",
       "    <tr>\n",
       "      <th>2</th>\n",
       "      <td>1240</td>\n",
       "      <td>118</td>\n",
       "      <td>23</td>\n",
       "      <td>7</td>\n",
       "      <td>0.086892</td>\n",
       "      <td>0.913108</td>\n",
       "      <td>381.878642</td>\n",
       "      <td>472.735508</td>\n",
       "      <td>669.259677</td>\n",
       "      <td>787.110169</td>\n",
       "      <td>1358</td>\n",
       "      <td>122.232223</td>\n",
       "      <td>1</td>\n",
       "    </tr>\n",
       "    <tr>\n",
       "      <th>3</th>\n",
       "      <td>1324</td>\n",
       "      <td>122</td>\n",
       "      <td>21</td>\n",
       "      <td>9</td>\n",
       "      <td>0.084371</td>\n",
       "      <td>0.915629</td>\n",
       "      <td>406.205288</td>\n",
       "      <td>513.916038</td>\n",
       "      <td>714.503021</td>\n",
       "      <td>821.139344</td>\n",
       "      <td>1446</td>\n",
       "      <td>108.233533</td>\n",
       "      <td>1</td>\n",
       "    </tr>\n",
       "    <tr>\n",
       "      <th>4</th>\n",
       "      <td>1291</td>\n",
       "      <td>115</td>\n",
       "      <td>22</td>\n",
       "      <td>8</td>\n",
       "      <td>0.081792</td>\n",
       "      <td>0.918208</td>\n",
       "      <td>395.028889</td>\n",
       "      <td>503.993490</td>\n",
       "      <td>695.740511</td>\n",
       "      <td>790.608696</td>\n",
       "      <td>1406</td>\n",
       "      <td>132.142857</td>\n",
       "      <td>1</td>\n",
       "    </tr>\n",
       "  </tbody>\n",
       "</table>\n",
       "</div>"
      ],
      "text/plain": [
       "   N_in_packets  N_out_packets  in_first_thirty  out_first_thirty  \\\n",
       "0          1300            121               21                 9   \n",
       "1           438             80               22                 8   \n",
       "2          1240            118               23                 7   \n",
       "3          1324            122               21                 9   \n",
       "4          1291            115               22                 8   \n",
       "\n",
       "   out_fraction  in_fraction     out_std      in_std    out_mean     in_mean  \\\n",
       "0      0.085151     0.914849  398.486335  515.483953  705.106154  774.322314   \n",
       "1      0.154440     0.845560  150.591146  139.231951  265.406393  227.162500   \n",
       "2      0.086892     0.913108  381.878642  472.735508  669.259677  787.110169   \n",
       "3      0.084371     0.915629  406.205288  513.916038  714.503021  821.139344   \n",
       "4      0.081792     0.918208  395.028889  503.993490  695.740511  790.608696   \n",
       "\n",
       "   N_packets  time_fraction  y  \n",
       "0       1421     140.138067  1  \n",
       "1        518      50.984252  1  \n",
       "2       1358     122.232223  1  \n",
       "3       1446     108.233533  1  \n",
       "4       1406     132.142857  1  "
      ]
     },
     "execution_count": 41,
     "metadata": {},
     "output_type": "execute_result"
    }
   ],
   "source": [
    "un_monitored_bi=pd.read_csv(r\"C:/Users/jain5/Desktop/open_binary.csv\")\n",
    "un_monitored_bi.head()"
   ]
  },
  {
   "cell_type": "code",
   "execution_count": 42,
   "id": "81f2e0ef-d561-4324-9b82-df48082940ba",
   "metadata": {},
   "outputs": [],
   "source": [
    "# 정답값 아닌 애들 분리\n",
    "X= un_monitored_bi.drop('y', axis=1)\n",
    "# 목표변수 분리(정답값. 어느 클래스 label에 해당하는지 해당 열)\n",
    "y = un_monitored_bi['y']     \n",
    "\n",
    "X_train, X_test, y_train, y_test=train_test_split(X, y,\n",
    "                                                    test_size = 0.3, random_state = 1)"
   ]
  },
  {
   "cell_type": "code",
   "execution_count": 43,
   "id": "19467405-d16a-4686-b738-65c81f18f725",
   "metadata": {},
   "outputs": [
    {
     "name": "stdout",
     "output_type": "stream",
     "text": [
      "최적 하이퍼 파라미터:\n",
      " {'max_depth': 24, 'min_samples_leaf': 1, 'min_samples_split': 2}\n",
      "최고 예측 정확도: 0.8265\n"
     ]
    }
   ],
   "source": [
    "from sklearn.model_selection import GridSearchCV\n",
    "\n",
    "params = {\n",
    "    'max_depth' : [8, 16, 24], \n",
    "    'min_samples_leaf' : [1, 6, 12],\n",
    "    'min_samples_split' : [2, 8, 16]\n",
    "}\n",
    "# RandomForestClassifier 객체 생성 후 GridSearchCV 수행\n",
    "# 튜닝 시간 절약을 위해 n_estimators는 100, cv는 2로만 성정한다.\n",
    "rf_clf_bi = RandomForestClassifier(n_estimators=100, random_state=0, n_jobs=-1)\n",
    "grid_cv_bi = GridSearchCV(rf_clf_bi , param_grid=params , cv=2, n_jobs=-1 )\n",
    "grid_cv_bi.fit(X_train , y_train)\n",
    "\n",
    "print('최적 하이퍼 파라미터:\\n', grid_cv_bi.best_params_)\n",
    "print('최고 예측 정확도: {0:.4f}'.format(grid_cv_bi.best_score_))"
   ]
  },
  {
   "cell_type": "code",
   "execution_count": 44,
   "id": "1498863b-d2a2-41b7-8c74-8532d047d067",
   "metadata": {},
   "outputs": [
    {
     "name": "stdout",
     "output_type": "stream",
     "text": [
      "예측 정확도: 0.8434\n"
     ]
    }
   ],
   "source": [
    "rf_clf2 = RandomForestClassifier(n_estimators=100, max_depth=24, min_samples_leaf=1, \n",
    "                                 min_samples_split=2, random_state=0)\n",
    "rf_clf2.fit(X_train , y_train)\n",
    "pred = rf_clf2.predict(X_test)\n",
    "print('예측 정확도: {0:.4f}'.format(accuracy_score(y_test , pred)))"
   ]
  },
  {
   "cell_type": "code",
   "execution_count": 45,
   "id": "73fd8ec4-08d6-4c0f-a35b-33357a8cbc29",
   "metadata": {},
   "outputs": [
    {
     "data": {
      "image/png": "[encoded data removed]",
      "text/plain": [
       "<Figure size 800x600 with 1 Axes>"
      ]
     },
     "metadata": {},
     "output_type": "display_data"
    },
    {
     "data": {
      "text/plain": [
       "<Figure size 640x480 with 0 Axes>"
      ]
     },
     "metadata": {},
     "output_type": "display_data"
    }
   ],
   "source": [
    "import matplotlib.pyplot as plt\n",
    "import seaborn as sns\n",
    "%matplotlib inline\n",
    "\n",
    "# feature_importances_를 이용해 알고리즘이 선택한 피처릐 중요도 알기\n",
    "ftr_importances_values = rf_clf2.feature_importances_\n",
    "ftr_importances = pd.Series(ftr_importances_values,index=X_train.columns  )\n",
    "ftr_top20 = ftr_importances.sort_values(ascending=False)[:20]\n",
    "\n",
    "plt.figure(figsize=(8,6))\n",
    "plt.title('Feature importances Top 20')\n",
    "sns.barplot(x=ftr_top20 , y = ftr_top20.index)\n",
    "fig1 = plt.gcf()\n",
    "plt.show()\n",
    "plt.draw()\n",
    "fig1.savefig('rf_feature_importances_top20.tif', format='tif', dpi=300, bbox_inches='tight')"
   ]
  },
  {
   "cell_type": "code",
   "execution_count": null,
   "id": "d7a791fe-ae3f-421d-ba6c-2c13688239d9",
   "metadata": {},
   "outputs": [],
   "source": []
  },
  {
   "cell_type": "markdown",
   "id": "8f5ddcac-c942-4f20-ae05-da39a54c05c0",
   "metadata": {},
   "source": [
    "2-2 open world multi 분류"
   ]
  },
  {
   "cell_type": "code",
   "execution_count": 46,
   "id": "eb490206-bb2b-4141-bb50-0c1bb94cf730",
   "metadata": {},
   "outputs": [
    {
     "data": {
      "text/html": [
       "<div>\n",
       "<style scoped>\n",
       "    .dataframe tbody tr th:only-of-type {\n",
       "        vertical-align: middle;\n",
       "    }\n",
       "\n",
       "    .dataframe tbody tr th {\n",
       "        vertical-align: top;\n",
       "    }\n",
       "\n",
       "    .dataframe thead th {\n",
       "        text-align: right;\n",
       "    }\n",
       "</style>\n",
       "<table border=\"1\" class=\"dataframe\">\n",
       "  <thead>\n",
       "    <tr style=\"text-align: right;\">\n",
       "      <th></th>\n",
       "      <th>N_in_packets</th>\n",
       "      <th>N_out_packets</th>\n",
       "      <th>in_first_thirty</th>\n",
       "      <th>out_first_thirty</th>\n",
       "      <th>out_fraction</th>\n",
       "      <th>in_fraction</th>\n",
       "      <th>out_std</th>\n",
       "      <th>in_std</th>\n",
       "      <th>out_mean</th>\n",
       "      <th>in_mean</th>\n",
       "      <th>N_packets</th>\n",
       "      <th>time_fraction</th>\n",
       "      <th>y</th>\n",
       "    </tr>\n",
       "  </thead>\n",
       "  <tbody>\n",
       "    <tr>\n",
       "      <th>0</th>\n",
       "      <td>1300</td>\n",
       "      <td>121</td>\n",
       "      <td>21</td>\n",
       "      <td>9</td>\n",
       "      <td>0.085151</td>\n",
       "      <td>0.914849</td>\n",
       "      <td>398.486335</td>\n",
       "      <td>515.483953</td>\n",
       "      <td>705.106154</td>\n",
       "      <td>774.322314</td>\n",
       "      <td>1421</td>\n",
       "      <td>140.138067</td>\n",
       "      <td>0</td>\n",
       "    </tr>\n",
       "    <tr>\n",
       "      <th>1</th>\n",
       "      <td>438</td>\n",
       "      <td>80</td>\n",
       "      <td>22</td>\n",
       "      <td>8</td>\n",
       "      <td>0.154440</td>\n",
       "      <td>0.845560</td>\n",
       "      <td>150.591146</td>\n",
       "      <td>139.231951</td>\n",
       "      <td>265.406393</td>\n",
       "      <td>227.162500</td>\n",
       "      <td>518</td>\n",
       "      <td>50.984252</td>\n",
       "      <td>0</td>\n",
       "    </tr>\n",
       "    <tr>\n",
       "      <th>2</th>\n",
       "      <td>1240</td>\n",
       "      <td>118</td>\n",
       "      <td>23</td>\n",
       "      <td>7</td>\n",
       "      <td>0.086892</td>\n",
       "      <td>0.913108</td>\n",
       "      <td>381.878642</td>\n",
       "      <td>472.735508</td>\n",
       "      <td>669.259677</td>\n",
       "      <td>787.110169</td>\n",
       "      <td>1358</td>\n",
       "      <td>122.232223</td>\n",
       "      <td>0</td>\n",
       "    </tr>\n",
       "    <tr>\n",
       "      <th>3</th>\n",
       "      <td>1324</td>\n",
       "      <td>122</td>\n",
       "      <td>21</td>\n",
       "      <td>9</td>\n",
       "      <td>0.084371</td>\n",
       "      <td>0.915629</td>\n",
       "      <td>406.205288</td>\n",
       "      <td>513.916038</td>\n",
       "      <td>714.503021</td>\n",
       "      <td>821.139344</td>\n",
       "      <td>1446</td>\n",
       "      <td>108.233533</td>\n",
       "      <td>0</td>\n",
       "    </tr>\n",
       "    <tr>\n",
       "      <th>4</th>\n",
       "      <td>1291</td>\n",
       "      <td>115</td>\n",
       "      <td>22</td>\n",
       "      <td>8</td>\n",
       "      <td>0.081792</td>\n",
       "      <td>0.918208</td>\n",
       "      <td>395.028889</td>\n",
       "      <td>503.993490</td>\n",
       "      <td>695.740511</td>\n",
       "      <td>790.608696</td>\n",
       "      <td>1406</td>\n",
       "      <td>132.142857</td>\n",
       "      <td>0</td>\n",
       "    </tr>\n",
       "  </tbody>\n",
       "</table>\n",
       "</div>"
      ],
      "text/plain": [
       "   N_in_packets  N_out_packets  in_first_thirty  out_first_thirty  \\\n",
       "0          1300            121               21                 9   \n",
       "1           438             80               22                 8   \n",
       "2          1240            118               23                 7   \n",
       "3          1324            122               21                 9   \n",
       "4          1291            115               22                 8   \n",
       "\n",
       "   out_fraction  in_fraction     out_std      in_std    out_mean     in_mean  \\\n",
       "0      0.085151     0.914849  398.486335  515.483953  705.106154  774.322314   \n",
       "1      0.154440     0.845560  150.591146  139.231951  265.406393  227.162500   \n",
       "2      0.086892     0.913108  381.878642  472.735508  669.259677  787.110169   \n",
       "3      0.084371     0.915629  406.205288  513.916038  714.503021  821.139344   \n",
       "4      0.081792     0.918208  395.028889  503.993490  695.740511  790.608696   \n",
       "\n",
       "   N_packets  time_fraction  y  \n",
       "0       1421     140.138067  0  \n",
       "1        518      50.984252  0  \n",
       "2       1358     122.232223  0  \n",
       "3       1446     108.233533  0  \n",
       "4       1406     132.142857  0  "
      ]
     },
     "execution_count": 46,
     "metadata": {},
     "output_type": "execute_result"
    }
   ],
   "source": [
    "un_monitored_mul=pd.read_csv(r\"C:/Users/jain5/Desktop/open_multi.csv\")\n",
    "un_monitored_mul.head()"
   ]
  },
  {
   "cell_type": "code",
   "execution_count": 47,
   "id": "e62cb1a7-6fbb-4f83-b15d-8bb99eab5f1b",
   "metadata": {},
   "outputs": [],
   "source": [
    "# 정답값 아닌 애들 분리\n",
    "X= monitored.drop('y', axis=1)\n",
    "# 목표변수 분리(정답값. 어느 클래스 label에 해당하는지 해당 열)\n",
    "y = monitored['y']\n",
    "\n",
    "X_train, X_test, y_train, y_test=train_test_split(X, y,\n",
    "                                                    test_size = 0.3, random_state = 1)"
   ]
  },
  {
   "cell_type": "code",
   "execution_count": 48,
   "id": "d8bd1d59-ac22-4f27-8d9d-b613aa8f7f4c",
   "metadata": {},
   "outputs": [
    {
     "name": "stdout",
     "output_type": "stream",
     "text": [
      "최적 하이퍼 파라미터:\n",
      " {'max_depth': 24, 'min_samples_leaf': 1, 'min_samples_split': 2}\n",
      "최고 예측 정확도: 0.7203\n"
     ]
    }
   ],
   "source": [
    "from sklearn.model_selection import GridSearchCV\n",
    "\n",
    "params = {\n",
    "    'max_depth' : [8, 16, 24], \n",
    "    'min_samples_leaf' : [1, 6, 12],\n",
    "    'min_samples_split' : [2, 8, 16]\n",
    "}\n",
    "# RandomForestClassifier 객체 생성 후 GridSearchCV 수행\n",
    "# 튜닝 시간 절약을 위해 n_estimators는 100, cv는 2로만 성정한다.\n",
    "rf_clf = RandomForestClassifier(n_estimators=100, random_state=0, n_jobs=-1)\n",
    "grid_cv = GridSearchCV(rf_clf , param_grid=params , cv=2, n_jobs=-1 )\n",
    "grid_cv.fit(X_train , y_train)\n",
    "\n",
    "print('최적 하이퍼 파라미터:\\n', grid_cv.best_params_)\n",
    "print('최고 예측 정확도: {0:.4f}'.format(grid_cv.best_score_))"
   ]
  },
  {
   "cell_type": "code",
   "execution_count": 49,
   "id": "a22646a3-436f-4f5e-ad88-122a1422cb2a",
   "metadata": {},
   "outputs": [
    {
     "name": "stdout",
     "output_type": "stream",
     "text": [
      "예측 정확도: 0.7661\n"
     ]
    }
   ],
   "source": [
    "rf_clf1 = RandomForestClassifier(n_estimators=100, max_depth=24, min_samples_leaf=1, \n",
    "                                 min_samples_split=2, random_state=0)\n",
    "rf_clf1.fit(X_train , y_train)\n",
    "pred = rf_clf1.predict(X_test)\n",
    "print('예측 정확도: {0:.4f}'.format(accuracy_score(y_test , pred)))"
   ]
  },
  {
   "cell_type": "code",
   "execution_count": 50,
   "id": "8dfd5102-1a35-4e32-adaa-e8f1640da551",
   "metadata": {},
   "outputs": [
    {
     "data": {
      "image/png": "[encoded data removed]",
      "text/plain": [
       "<Figure size 800x600 with 1 Axes>"
      ]
     },
     "metadata": {},
     "output_type": "display_data"
    },
    {
     "data": {
      "text/plain": [
       "<Figure size 640x480 with 0 Axes>"
      ]
     },
     "metadata": {},
     "output_type": "display_data"
    }
   ],
   "source": [
    "import matplotlib.pyplot as plt\n",
    "import seaborn as sns\n",
    "%matplotlib inline\n",
    "\n",
    "# feature_importances_를 이용해 알고리즘이 선택한 피처릐 중요도 알기\n",
    "ftr_importances_values = rf_clf1.feature_importances_\n",
    "ftr_importances = pd.Series(ftr_importances_values,index=X_train.columns  )\n",
    "ftr_top20 = ftr_importances.sort_values(ascending=False)[:20]\n",
    "\n",
    "plt.figure(figsize=(8,6))\n",
    "plt.title('Feature importances Top 20')\n",
    "sns.barplot(x=ftr_top20 , y = ftr_top20.index)\n",
    "fig1 = plt.gcf()\n",
    "plt.show()\n",
    "plt.draw()\n",
    "fig1.savefig('rf_feature_importances_top20.tif', format='tif', dpi=300, bbox_inches='tight')"
   ]
  },
  {
   "cell_type": "code",
   "execution_count": null,
   "id": "ca57d44f-25dd-4828-9968-197293fb4119",
   "metadata": {},
   "outputs": [],
   "source": []
  },
  {
   "cell_type": "code",
   "execution_count": null,
   "id": "d9e958a4-f037-4de0-a7f3-457a85c813fd",
   "metadata": {},
   "outputs": [],
   "source": []
  }
 ],
 "metadata": {
  "kernelspec": {
   "display_name": "Python 3 (ipykernel)",
   "language": "python",
   "name": "python3"
  },
  "language_info": {
   "codemirror_mode": {
    "name": "ipython",
    "version": 3
   },
   "file_extension": ".py",
   "mimetype": "text/x-python",
   "name": "python",
   "nbconvert_exporter": "python",
   "pygments_lexer": "ipython3",
   "version": "3.9.13"
  }
 },
 "nbformat": 4,
 "nbformat_minor": 5
}
